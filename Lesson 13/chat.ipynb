{
 "metadata": {
  "language_info": {
   "codemirror_mode": {
    "name": "ipython",
    "version": 3
   },
   "file_extension": ".py",
   "mimetype": "text/x-python",
   "name": "python",
   "nbconvert_exporter": "python",
   "pygments_lexer": "ipython3",
   "version": 3
  },
  "orig_nbformat": 2
 },
 "nbformat": 4,
 "nbformat_minor": 2,
 "cells": [
  {
   "source": [
    "# Olivia is the coolest\n",
    "---\n",
    "\n",
    "**She passed her pre exam!**\n",
    "\n",
    "```\n",
    "number = 12\n",
    "\n",
    "0000 1100\n",
    "\n",
    "class Dog()\n",
    "\n",
    "Spot = Dog()\n",
    "\n",
    "int number = 12\n",
    "\n",
    "byteStream manipulateMemory = new byteStream()\n",
    "\n",
    "0000 1100\n",
    "\n",
    "\n",
    "```"
   ],
   "cell_type": "markdown",
   "metadata": {}
  },
  {
   "cell_type": "code",
   "execution_count": null,
   "metadata": {},
   "outputs": [],
   "source": []
  }
 ]
}