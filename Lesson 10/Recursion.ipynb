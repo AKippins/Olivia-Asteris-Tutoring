{
 "metadata": {
  "language_info": {
   "codemirror_mode": {
    "name": "ipython",
    "version": 3
   },
   "file_extension": ".py",
   "mimetype": "text/x-python",
   "name": "python",
   "nbconvert_exporter": "python",
   "pygments_lexer": "ipython3",
   "version": "3.6.10-final"
  },
  "orig_nbformat": 2,
  "kernelspec": {
   "name": "python_defaultSpec_1599171362872",
   "display_name": "Python 3.6.10 64-bit"
  }
 },
 "nbformat": 4,
 "nbformat_minor": 2,
 "cells": [
  {
   "cell_type": "markdown",
   "metadata": {},
   "source": [
    "# Lesson on Recursion\n",
    "---\n",
    "\n",
    "3!\n",
    "3 * 2 * 1\n",
    "\n",
    "## factorial(n)\n",
    "if n <= 1: return 1\n",
    "else : return factorial(n-1)\n",
    "\n",
    "```\n",
    "n = 7\n",
    "\n",
    "def factorial(n):\n",
    "    if n > 1:\n",
    "        return n * factorial(n - 1)\n",
    "    if n == 1:\n",
    "        return 1\n",
    "\n",
    "factorial(7) \n",
    "```\n",
    "\n",
    "factorial(7):      |\n",
    "7 * factorial(6)   V\n",
    "\n",
    "factorial(6):\n",
    "6 * factorial(5)\n",
    "\n",
    "factorial(5):\n",
    "5 * factorial(4)\n",
    "\n",
    "factorial(4):\n",
    "4 * factorial(3)\n",
    "4 * 3 * 2 * 1\n",
    "\n",
    "factorial(3):\n",
    "3 * factorial(2)\n",
    "3 * 2 * 1\n",
    "\n",
    "factorial(2):\n",
    "2 * factorial(1)\n",
    "2 * 1\n",
    "\n",
    "factorial(1):           ^\n",
    "1                       |\n",
    "\n",
    "\n",
    "\n"
   ]
  },
  {
   "cell_type": "code",
   "execution_count": 1,
   "metadata": {
    "tags": []
   },
   "outputs": [
    {
     "output_type": "stream",
     "name": "stdout",
     "text": "Hey Liv\n"
    }
   ],
   "source": [
    "print(\"Hey Liv\")"
   ]
  }
 ]
}